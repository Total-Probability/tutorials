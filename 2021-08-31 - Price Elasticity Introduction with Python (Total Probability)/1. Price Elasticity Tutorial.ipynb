{
 "cells": [
  {
   "cell_type": "markdown",
   "id": "c82b64fb-3d45-45fc-8a00-d3c2ca70fb98",
   "metadata": {},
   "source": [
    "# Introduction to Price Ealsticity with Python"
   ]
  },
  {
   "cell_type": "markdown",
   "id": "c0546bf9-10be-4463-ac1e-4ded8dca5ad7",
   "metadata": {},
   "source": [
    "Author: Ali Habasha"
   ]
  },
  {
   "cell_type": "markdown",
   "id": "5cf4e29d-c196-463d-8d13-9f916480a173",
   "metadata": {},
   "source": [
    "This is a companion notebook to a blog article on http://totalprobability.com introducting the concept of price elasticity (PE) and how to carry out PE calculation in Python.\n",
    "\n",
    "You don't need permission to use the code in this notbook, although attribution and linking back to the original article would be much appreciated."
   ]
  },
  {
   "cell_type": "code",
   "execution_count": null,
   "id": "6e86e36f-ca0a-4413-bc51-69a831739687",
   "metadata": {},
   "outputs": [],
   "source": [
    "\n"
   ]
  }
 ],
 "metadata": {
  "kernelspec": {
   "display_name": "Python 3 (ipykernel)",
   "language": "python",
   "name": "python3"
  },
  "language_info": {
   "codemirror_mode": {
    "name": "ipython",
    "version": 3
   },
   "file_extension": ".py",
   "mimetype": "text/x-python",
   "name": "python",
   "nbconvert_exporter": "python",
   "pygments_lexer": "ipython3",
   "version": "3.9.6"
  }
 },
 "nbformat": 4,
 "nbformat_minor": 5
}
